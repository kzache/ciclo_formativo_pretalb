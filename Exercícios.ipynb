{
  "nbformat": 4,
  "nbformat_minor": 0,
  "metadata": {
    "colab": {
      "provenance": [],
      "toc_visible": true,
      "include_colab_link": true
    },
    "kernelspec": {
      "name": "python3",
      "display_name": "Python 3"
    },
    "language_info": {
      "name": "python"
    }
  },
  "cells": [
    {
      "cell_type": "markdown",
      "metadata": {
        "id": "view-in-github",
        "colab_type": "text"
      },
      "source": [
        "<a href=\"https://colab.research.google.com/github/kzache/ciclo_formativo_pretalb/blob/main/Exerc%C3%ADcios.ipynb\" target=\"_parent\"><img src=\"https://colab.research.google.com/assets/colab-badge.svg\" alt=\"Open In Colab\"/></a>"
      ]
    },
    {
      "cell_type": "markdown",
      "source": [
        "*Para a realização desses exercícios, peço que configurem para não aparecer sugestões da IA Gemini*"
      ],
      "metadata": {
        "id": "pAFFoVXs4XQo"
      }
    },
    {
      "cell_type": "markdown",
      "source": [
        "### A) **Utilizando variáveis, gere uma apresentação curta de sí mesma, como nesse exemplo**:\n",
        "\n"
      ],
      "metadata": {
        "id": "rZbJ_1LJ2DLf"
      }
    },
    {
      "cell_type": "code",
      "source": [
        "# Oi! Eu sou a Keila, tenho 40 anos, moro em Belo Horizonte e meu signo é Touro"
      ],
      "metadata": {
        "id": "ibKRn-P37-b2"
      },
      "execution_count": null,
      "outputs": []
    },
    {
      "cell_type": "code",
      "source": [
        "# Dica: As variáveis podem ser algo como:\n",
        "nome = 'Amanda'\n",
        "idade = 30\n",
        "cidade = 'Salvador'\n",
        "signo = 'Gêmeos'"
      ],
      "metadata": {
        "id": "n0Rjb0s_2ula"
      },
      "execution_count": null,
      "outputs": []
    },
    {
      "cell_type": "code",
      "source": [
        "nome = \"Keila\"\n",
        "idade = 40\n",
        "cidade = \"Belo Horizonte\"\n",
        "signo = \"Touro\"\n",
        "apresentacao = f\"Oi! Eu sou a {nome}, tenho {idade} anos, moro em {cidade} e meu signo é {signo}.\"\n",
        "print(apresentacao)"
      ],
      "metadata": {
        "id": "kil7YL7Z3AoV",
        "outputId": "58c80dec-8438-4cbc-809e-7c52cf871ae0",
        "colab": {
          "base_uri": "https://localhost:8080/"
        }
      },
      "execution_count": 37,
      "outputs": [
        {
          "output_type": "stream",
          "name": "stdout",
          "text": [
            "Oi! Eu sou a Keila, tenho 40 anos, moro em Belo Horizonte e meu signo é Touro.\n"
          ]
        }
      ]
    },
    {
      "cell_type": "markdown",
      "source": [
        "\n",
        "\n",
        "---\n",
        "\n"
      ],
      "metadata": {
        "id": "dgkbPq2JK7ES"
      }
    },
    {
      "cell_type": "markdown",
      "source": [
        "### B) **Qual o maior valor dessa lista de gastos?**\n",
        "\n"
      ],
      "metadata": {
        "id": "jQnXX8Ii348J"
      }
    },
    {
      "cell_type": "code",
      "source": [
        "gastos = [10.60, 11.99, 5.50, 10, 45.99, 7.50, 4.00]"
      ],
      "metadata": {
        "id": "8CeAhHTf9aYk"
      },
      "execution_count": 19,
      "outputs": []
    },
    {
      "cell_type": "code",
      "source": [
        "# O valor mais caro é: 45.99"
      ],
      "metadata": {
        "id": "EWRw9Zkn-RWL"
      },
      "execution_count": null,
      "outputs": []
    },
    {
      "cell_type": "code",
      "source": [
        "gastos = [10.60, 11.99, 5.50, 10, 45.99, 7.50, 4.00]\n",
        "maior_gasto = max(gastos)\n",
        "print(f\"O maior valor dessa lista de gastos é: {maior_gasto}\")\n",
        "\n"
      ],
      "metadata": {
        "id": "muN_hCwu-dWp",
        "outputId": "4cb7b04f-0817-4231-f5f2-e9ebde59e307",
        "colab": {
          "base_uri": "https://localhost:8080/"
        }
      },
      "execution_count": 20,
      "outputs": [
        {
          "output_type": "stream",
          "name": "stdout",
          "text": [
            "O maior valor dessa lista de gastos é: 45.99\n"
          ]
        }
      ]
    },
    {
      "cell_type": "markdown",
      "source": [
        "\n",
        "\n",
        "---\n",
        "\n"
      ],
      "metadata": {
        "id": "skCyGhKG-gpv"
      }
    },
    {
      "cell_type": "markdown",
      "source": [
        "### C) **Qual a média dessa lista?**:\n",
        "\n"
      ],
      "metadata": {
        "id": "7-fmR1dU9Lmm"
      }
    },
    {
      "cell_type": "code",
      "source": [
        "numeros = [10,80,50,90,70]"
      ],
      "metadata": {
        "id": "_x74pbVn7t91"
      },
      "execution_count": 17,
      "outputs": []
    },
    {
      "cell_type": "code",
      "source": [
        "# A média dos números é: 60.0"
      ],
      "metadata": {
        "id": "QGJ9F4go8nmt"
      },
      "execution_count": null,
      "outputs": []
    },
    {
      "cell_type": "code",
      "source": [
        "numeros = [10, 80, 50, 90, 70]\n",
        "media = sum(numeros) / len(numeros)\n",
        "print(f\"A média dessa lista é: {media}\")\n"
      ],
      "metadata": {
        "id": "C8SOjNdB8Ptz",
        "outputId": "7abfcc51-7ac4-4c91-e6cf-372328c7bb65",
        "colab": {
          "base_uri": "https://localhost:8080/"
        }
      },
      "execution_count": 18,
      "outputs": [
        {
          "output_type": "stream",
          "name": "stdout",
          "text": [
            "A média dessa lista é: 60.0\n"
          ]
        }
      ]
    },
    {
      "cell_type": "markdown",
      "source": [
        "\n",
        "\n",
        "---\n",
        "\n"
      ],
      "metadata": {
        "id": "A5riB5veK95b"
      }
    },
    {
      "cell_type": "markdown",
      "source": [
        "### D) **Qual a média final dessas notas, qual a maior e qual a menor nota**"
      ],
      "metadata": {
        "id": "goAxWssZ_N5a"
      }
    },
    {
      "cell_type": "code",
      "source": [
        "notas = [10,7.8, 6, 8, 9]\n"
      ],
      "metadata": {
        "id": "_IY5S15p_YIR"
      },
      "execution_count": 13,
      "outputs": []
    },
    {
      "cell_type": "code",
      "source": [
        "# A média final é 8.16. A sua maior nota foi 10 e a menor nota foi 6!"
      ],
      "metadata": {
        "id": "Xa-J0VSI_6YZ"
      },
      "execution_count": 14,
      "outputs": []
    },
    {
      "cell_type": "code",
      "source": [
        "notas = [10, 7.8, 6, 8, 9]\n",
        "\n",
        "media = sum(notas) / len(notas)\n",
        "maior_nota = max(notas)\n",
        "menor_nota = min(notas)\n",
        "\n",
        "print(f\"A média final das notas é: {media}\")\n",
        "print(f\"A maior nota é: {maior_nota}\")\n",
        "print(f\"A menor nota é: {menor_nota}\")"
      ],
      "metadata": {
        "id": "2NT0YwxomMjJ",
        "outputId": "208ae9ea-f32d-4ed6-c083-91a50a1b8726",
        "colab": {
          "base_uri": "https://localhost:8080/"
        }
      },
      "execution_count": 16,
      "outputs": [
        {
          "output_type": "stream",
          "name": "stdout",
          "text": [
            "A média final das notas é: 8.16\n",
            "A maior nota é: 10\n",
            "A menor nota é: 6\n"
          ]
        }
      ]
    },
    {
      "cell_type": "markdown",
      "source": [
        "\n",
        "\n",
        "---\n",
        "\n"
      ],
      "metadata": {
        "id": "ifwPeyZQK-2l"
      }
    },
    {
      "cell_type": "markdown",
      "source": [
        "### E) **Com as mesmas informações do exercício anterior, apresente se a aluna foi APROVADA ou REPROVADA**"
      ],
      "metadata": {
        "id": "p8L7DdPbApDN"
      }
    },
    {
      "cell_type": "markdown",
      "source": [
        "*  Se a média for igual ou superior a 6 apresentar a mensagem \"Parabéns, você foi APROVADA!\"\n",
        "*  Se a média for menor, apresentar \"Não foi dessa vez, infelizmente você foi REPROVADA!\""
      ],
      "metadata": {
        "id": "kb21A5Z1A7CU"
      }
    },
    {
      "cell_type": "code",
      "source": [
        "# Parabéns você foi aprovada!"
      ],
      "metadata": {
        "id": "InjCDLOZBZhC"
      },
      "execution_count": null,
      "outputs": []
    },
    {
      "cell_type": "code",
      "source": [
        "nota = 7\n",
        "\n",
        "if nota >= 6:\n",
        "    print(\"Parabéns, você foi APROVADA!\")\n",
        "else:\n",
        "    print(\"Não foi dessa vez, infelizmente você foi REPROVADA.\")"
      ],
      "metadata": {
        "id": "g2nUuyoUalog",
        "outputId": "4d80ec44-ea06-4db2-9e10-7213323db102",
        "colab": {
          "base_uri": "https://localhost:8080/"
        }
      },
      "execution_count": 22,
      "outputs": [
        {
          "output_type": "stream",
          "name": "stdout",
          "text": [
            "Parabéns, você foi APROVADA!\n"
          ]
        }
      ]
    },
    {
      "cell_type": "markdown",
      "source": [
        "\n",
        "\n",
        "---\n",
        "\n"
      ],
      "metadata": {
        "id": "X5Ya3MHRK_4N"
      }
    },
    {
      "cell_type": "markdown",
      "source": [
        "### F) **Desenvolva um programa que realize as quatro operações básicas (adição, subtração, multiplicação e divisão) entre dois números. A usuária deve escolher a operação e inserir os valores**"
      ],
      "metadata": {
        "id": "YT8vTnW2ENVL"
      }
    },
    {
      "cell_type": "code",
      "source": [
        "#Digite o primeiro número: 10\n",
        "#Digite o segundo número: 20\n",
        "#Digite a operação (+, -, *, /): +\n",
        "#Resultado: 30.0"
      ],
      "metadata": {
        "id": "gpmOjgseE4aD"
      },
      "execution_count": null,
      "outputs": []
    },
    {
      "cell_type": "code",
      "source": [
        "    num1 = 10\n",
        "    num2 = 20\n",
        "    resultado = num1 + num2\n",
        "    print(f\"O resultado da soma é: {resultado}\")"
      ],
      "metadata": {
        "id": "iTu22D0VEinD",
        "outputId": "7786e76c-0b27-47b5-a8f7-9f166017fedf",
        "colab": {
          "base_uri": "https://localhost:8080/"
        }
      },
      "execution_count": 31,
      "outputs": [
        {
          "output_type": "stream",
          "name": "stdout",
          "text": [
            "O resultado da soma é: 30\n"
          ]
        }
      ]
    },
    {
      "cell_type": "markdown",
      "source": [
        "\n",
        "\n",
        "---\n",
        "\n"
      ],
      "metadata": {
        "id": "X0ZvZeNCLA04"
      }
    },
    {
      "cell_type": "markdown",
      "source": [
        "### G) **Faça um Programa que leia três números e mostre-os em ordem decrescente.**"
      ],
      "metadata": {
        "id": "vdf5rEiZF5KM"
      }
    },
    {
      "cell_type": "code",
      "source": [
        "numero1 = 15\n",
        "numero2 = 6\n",
        "numero3 = 47\n",
        "numeros = [numero1, numero2, numero3]\n",
        "numeros_ordenados = sorted(numeros, reverse=True)\n",
        "print(\"Os números em ordem decrescente são:\")\n",
        "for numero in numeros_ordenados:\n",
        "    print(numero)"
      ],
      "metadata": {
        "id": "PMPrtPEOF7eE",
        "outputId": "a3a6f7e7-1893-4f64-db9d-d73f862fe8a9",
        "colab": {
          "base_uri": "https://localhost:8080/"
        }
      },
      "execution_count": 32,
      "outputs": [
        {
          "output_type": "stream",
          "name": "stdout",
          "text": [
            "Os números em ordem decrescente são:\n",
            "47\n",
            "15\n",
            "6\n"
          ]
        }
      ]
    },
    {
      "cell_type": "markdown",
      "source": [
        "\n",
        "\n",
        "---\n",
        "\n"
      ],
      "metadata": {
        "id": "lX9BdmxyLBtt"
      }
    },
    {
      "cell_type": "markdown",
      "source": [
        "### H) **Faça uma função que retorne o reverso de um número inteiro informado. Por exemplo: 153 -> 351**"
      ],
      "metadata": {
        "id": "p0A-lta0Gmcq"
      }
    },
    {
      "cell_type": "code",
      "source": [
        "numero_str = str(numero)\n",
        "numero_reverso_str = numero_str[::-1]\n",
        "numero_reverso = int(numero_reverso_str)\n",
        "return numero_reverso\n"
      ],
      "metadata": {
        "id": "0Ppk5OneHom-",
        "outputId": "82810d2f-a3a3-4afb-e34f-da9187576f72",
        "colab": {
          "base_uri": "https://localhost:8080/",
          "height": 110
        }
      },
      "execution_count": 36,
      "outputs": [
        {
          "output_type": "error",
          "ename": "SyntaxError",
          "evalue": "'return' outside function (<ipython-input-36-211a12b9554f>, line 4)",
          "traceback": [
            "\u001b[0;36m  File \u001b[0;32m\"<ipython-input-36-211a12b9554f>\"\u001b[0;36m, line \u001b[0;32m4\u001b[0m\n\u001b[0;31m    return numero_reverso\u001b[0m\n\u001b[0m    ^\u001b[0m\n\u001b[0;31mSyntaxError\u001b[0m\u001b[0;31m:\u001b[0m 'return' outside function\n"
          ]
        }
      ]
    },
    {
      "cell_type": "markdown",
      "source": [
        "\n",
        "\n",
        "---\n",
        "\n"
      ],
      "metadata": {
        "id": "GWlXyhTlLCii"
      }
    },
    {
      "cell_type": "markdown",
      "source": [
        "### I) **Faça um programa que solicite o nome do usuário e imprima-o em formato de escada.**"
      ],
      "metadata": {
        "id": "4DKAX96gKJZv"
      }
    },
    {
      "cell_type": "code",
      "source": [
        "#Digite seu nome: amanda\n",
        "#a\n",
        "#am\n",
        "#ama\n",
        "#aman\n",
        "#amand\n",
        "#amanda"
      ],
      "metadata": {
        "id": "yRsRy144KKds"
      },
      "execution_count": null,
      "outputs": []
    },
    {
      "cell_type": "code",
      "source": [
        "# Resposta aqui"
      ],
      "metadata": {
        "id": "N2ohocU_KO08"
      },
      "execution_count": null,
      "outputs": []
    }
  ]
}