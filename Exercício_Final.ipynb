{
  "nbformat": 4,
  "nbformat_minor": 0,
  "metadata": {
    "colab": {
      "provenance": [],
      "include_colab_link": true
    },
    "kernelspec": {
      "name": "python3",
      "display_name": "Python 3"
    },
    "language_info": {
      "name": "python"
    }
  },
  "cells": [
    {
      "cell_type": "markdown",
      "metadata": {
        "id": "view-in-github",
        "colab_type": "text"
      },
      "source": [
        "<a href=\"https://colab.research.google.com/github/kzache/ciclo_formativo_pretalb/blob/main/Exerc%C3%ADcio_Final.ipynb\" target=\"_parent\"><img src=\"https://colab.research.google.com/assets/colab-badge.svg\" alt=\"Open In Colab\"/></a>"
      ]
    },
    {
      "cell_type": "markdown",
      "source": [
        "# Contagem de Medalhas\n",
        "\n",
        "Crie um programa que receba o número de medalhas de ouro, prata e bronze de um país nas Olimpíadas e calcule o total de medalhas.\n",
        "Quando escrever 'sair', o programa deverá encerrar e mostrar na tela o ranking de medalhas no formato:"
      ],
      "metadata": {
        "id": "RQN1e5FZY6SZ"
      }
    },
    {
      "cell_type": "code",
      "source": [
        "#Ranking de medalhas:\n",
        "#Brasil: 7 medalhas\n",
        "#França: 6 medalhas\n",
        "#Argentina: 3 medalhas"
      ],
      "metadata": {
        "id": "gCq_KLHzZSzb"
      },
      "execution_count": 2,
      "outputs": []
    },
    {
      "cell_type": "code",
      "execution_count": null,
      "metadata": {
        "id": "AJJhjxiPTd5s",
        "outputId": "13e73f5d-e1b1-4e52-d6ea-f5e0d63e7538",
        "colab": {
          "base_uri": "https://localhost:8080/"
        }
      },
      "outputs": [
        {
          "output_type": "stream",
          "name": "stdout",
          "text": [
            "# Ranking de medalhas:\n",
            "Brasil: 7 medalhas\n",
            "França: 6 medalhas\n",
            "Argentina: 3 medalhas\n"
          ]
        }
      ],
      "source": [
        "\n",
        "\n",
        "\n",
        "mostrar_ranking()\n",
        "\n",
        "def adicionar_medalhas(Brasil):\n",
        "    pais = input(\"Digite o nome do país (ou 'sair' para encerrar): Brasil\")\n",
        "    ouro = int(input(f\"Digite o número de medalhas de ouro para {Brasil}: 3\"))\n",
        "    prata = int(input(f\"Digite o número de medalhas de prata para {Brasil}: 2\"))\n",
        "    bronze = int(input(f\"Digite o número de medalhas de bronze para {Brasil}: 2 \"))\n",
        "\n",
        "\n",
        "def adicionar_medalhas(França):\n",
        "    pais = input(\"Digite o nome do país (ou 'sair' para encerrar): França\")\n",
        "    ouro = int(input(f\"Digite o número de medalhas de ouro para {França}: 2\"))\n",
        "    prata = int(input(f\"Digite o número de medalhas de prata para {França}: 2\"))\n",
        "    bronze = int(input(f\"Digite o número de medalhas de bronze para {França}: 3 \"))\n",
        "\n",
        "\n",
        "\n",
        "def adicionar_medalhas(Argentina):\n",
        "    pais = input(\"Digite o nome do país (ou 'sair' para encerrar): Argentina\")\n",
        "    ouro = int(input(f\"Digite o número de medalhas de ouro para {Argentina}: 0\"))\n",
        "    prata = int(input(f\"Digite o número de medalhas de prata para {Argentina}: 1\"))\n",
        "    bronze = int(input(f\"Digite o número de medalhas de bronze para {Argentina}: 2 \"))\n",
        "\n",
        "    total = ouro + prata + bronze\n",
        "    ranking_medalhas[pais] = total\n",
        "\n",
        "\n",
        "def main():\n",
        "    while True:\n",
        "        pais = input(\"Digite o nome do país (ou 'sair' para encerrar): Brasil \")\n",
        "        if pais.lower() == 'sair':\n",
        "\n",
        "            break\n",
        "\n",
        "###não consegui terminar....tive muita dificuldade\n",
        "\n",
        "main()\n",
        "\n",
        "\n",
        "\n",
        "\n",
        "\n",
        "\n",
        "\n"
      ]
    }
  ]
}